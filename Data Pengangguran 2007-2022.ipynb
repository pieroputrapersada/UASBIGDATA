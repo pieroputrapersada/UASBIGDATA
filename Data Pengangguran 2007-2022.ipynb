{
 "cells": [
  {
   "cell_type": "code",
   "execution_count": 1,
   "id": "4ed4645e",
   "metadata": {},
   "outputs": [],
   "source": [
    "from pyspark.sql import SparkSession"
   ]
  },
  {
   "cell_type": "code",
   "execution_count": 2,
   "id": "a4e37a18",
   "metadata": {},
   "outputs": [],
   "source": [
    "spark = SparkSession.builder.appName(\"linearRegression\").getOrCreate()"
   ]
  },
  {
   "cell_type": "code",
   "execution_count": 3,
   "id": "eb8d6bed",
   "metadata": {},
   "outputs": [],
   "source": [
    "from pyspark.ml.regression import LinearRegression"
   ]
  },
  {
   "cell_type": "code",
   "execution_count": 4,
   "id": "9ebeabfb",
   "metadata": {},
   "outputs": [],
   "source": [
    "data = spark.read.csv('disnakertrans-od_17044_persentase_tingkat_pengangguran_terbuka__kabupatenkota_data.csv',inferSchema =True, header=True)"
   ]
  },
  {
   "cell_type": "code",
   "execution_count": 5,
   "id": "50479c72",
   "metadata": {
    "scrolled": true
   },
   "outputs": [
    {
     "name": "stdout",
     "output_type": "stream",
     "text": [
      "root\n",
      " |-- id: integer (nullable = true)\n",
      " |-- kode_provinsi: integer (nullable = true)\n",
      " |-- nama_provinsi: string (nullable = true)\n",
      " |-- kode_kabupaten_kota: integer (nullable = true)\n",
      " |-- nama_kabupaten_kota: string (nullable = true)\n",
      " |-- persentase_tingkat_pengangguran_terbuka: double (nullable = true)\n",
      " |-- satuan: string (nullable = true)\n",
      " |-- tahun: integer (nullable = true)\n",
      "\n"
     ]
    }
   ],
   "source": [
    "data.printSchema()"
   ]
  },
  {
   "cell_type": "code",
   "execution_count": 6,
   "id": "b84adc73",
   "metadata": {},
   "outputs": [
    {
     "name": "stdout",
     "output_type": "stream",
     "text": [
      "+---+-------------+-------------+-------------------+--------------------+---------------------------------------+------+-----+\n",
      "| id|kode_provinsi|nama_provinsi|kode_kabupaten_kota| nama_kabupaten_kota|persentase_tingkat_pengangguran_terbuka|satuan|tahun|\n",
      "+---+-------------+-------------+-------------------+--------------------+---------------------------------------+------+-----+\n",
      "|  1|           32|   JAWA BARAT|               3201|     KABUPATEN BOGOR|                                  14.26|PERSEN| 2007|\n",
      "|  2|           32|   JAWA BARAT|               3202|  KABUPATEN SUKABUMI|                                  10.85|PERSEN| 2007|\n",
      "|  3|           32|   JAWA BARAT|               3203|   KABUPATEN CIANJUR|                                  13.82|PERSEN| 2007|\n",
      "|  4|           32|   JAWA BARAT|               3204|   KABUPATEN BANDUNG|                                  17.37|PERSEN| 2007|\n",
      "|  5|           32|   JAWA BARAT|               3205|     KABUPATEN GARUT|                                  12.18|PERSEN| 2007|\n",
      "|  6|           32|   JAWA BARAT|               3206|KABUPATEN TASIKMA...|                                   8.48|PERSEN| 2007|\n",
      "|  7|           32|   JAWA BARAT|               3207|    KABUPATEN CIAMIS|                                   4.39|PERSEN| 2007|\n",
      "|  8|           32|   JAWA BARAT|               3208|  KABUPATEN KUNINGAN|                                  10.56|PERSEN| 2007|\n",
      "|  9|           32|   JAWA BARAT|               3209|   KABUPATEN CIREBON|                                  13.64|PERSEN| 2007|\n",
      "| 10|           32|   JAWA BARAT|               3210|KABUPATEN MAJALENGKA|                                   7.46|PERSEN| 2007|\n",
      "| 11|           32|   JAWA BARAT|               3211|  KABUPATEN SUMEDANG|                                   7.83|PERSEN| 2007|\n",
      "| 12|           32|   JAWA BARAT|               3212| KABUPATEN INDRAMAYU|                                  10.45|PERSEN| 2007|\n",
      "| 13|           32|   JAWA BARAT|               3213|    KABUPATEN SUBANG|                                   7.51|PERSEN| 2007|\n",
      "| 14|           32|   JAWA BARAT|               3214|KABUPATEN PURWAKARTA|                                  12.76|PERSEN| 2007|\n",
      "| 15|           32|   JAWA BARAT|               3215|  KABUPATEN KARAWANG|                                  17.02|PERSEN| 2007|\n",
      "| 16|           32|   JAWA BARAT|               3216|    KABUPATEN BEKASI|                                  15.12|PERSEN| 2007|\n",
      "| 17|           32|   JAWA BARAT|               3271|          KOTA BOGOR|                                  18.89|PERSEN| 2007|\n",
      "| 18|           32|   JAWA BARAT|               3272|       KOTA SUKABUMI|                                  22.15|PERSEN| 2007|\n",
      "| 19|           32|   JAWA BARAT|               3273|        KOTA BANDUNG|                                  16.48|PERSEN| 2007|\n",
      "| 20|           32|   JAWA BARAT|               3274|        KOTA CIREBON|                                  16.56|PERSEN| 2007|\n",
      "+---+-------------+-------------+-------------------+--------------------+---------------------------------------+------+-----+\n",
      "only showing top 20 rows\n",
      "\n"
     ]
    }
   ],
   "source": [
    "data.show()"
   ]
  },
  {
   "cell_type": "code",
   "execution_count": 7,
   "id": "17901f20",
   "metadata": {},
   "outputs": [
    {
     "data": {
      "text/plain": [
       "Row(id=1, kode_provinsi=32, nama_provinsi='JAWA BARAT', kode_kabupaten_kota=3201, nama_kabupaten_kota='KABUPATEN BOGOR', persentase_tingkat_pengangguran_terbuka=14.26, satuan='PERSEN', tahun=2007)"
      ]
     },
     "execution_count": 7,
     "metadata": {},
     "output_type": "execute_result"
    }
   ],
   "source": [
    "data.head(1)[0]"
   ]
  },
  {
   "cell_type": "code",
   "execution_count": 8,
   "id": "988d3734",
   "metadata": {},
   "outputs": [
    {
     "name": "stdout",
     "output_type": "stream",
     "text": [
      "1\n",
      "32\n",
      "JAWA BARAT\n",
      "3201\n",
      "KABUPATEN BOGOR\n",
      "14.26\n",
      "PERSEN\n",
      "2007\n"
     ]
    }
   ],
   "source": [
    "for item in data.head(1)[0]:\n",
    "    print(item)"
   ]
  },
  {
   "cell_type": "code",
   "execution_count": 9,
   "id": "7ca44bed",
   "metadata": {},
   "outputs": [],
   "source": [
    "from pyspark.ml.linalg import Vectors"
   ]
  },
  {
   "cell_type": "code",
   "execution_count": 10,
   "id": "740739af",
   "metadata": {},
   "outputs": [],
   "source": [
    "from pyspark.ml.feature import VectorAssembler"
   ]
  },
  {
   "cell_type": "code",
   "execution_count": 11,
   "id": "efe7d02e",
   "metadata": {},
   "outputs": [
    {
     "data": {
      "text/plain": [
       "['id',\n",
       " 'kode_provinsi',\n",
       " 'nama_provinsi',\n",
       " 'kode_kabupaten_kota',\n",
       " 'nama_kabupaten_kota',\n",
       " 'persentase_tingkat_pengangguran_terbuka',\n",
       " 'satuan',\n",
       " 'tahun']"
      ]
     },
     "execution_count": 11,
     "metadata": {},
     "output_type": "execute_result"
    }
   ],
   "source": [
    "data.columns"
   ]
  },
  {
   "cell_type": "code",
   "execution_count": 16,
   "id": "6e059f19",
   "metadata": {},
   "outputs": [],
   "source": [
    "assembler = VectorAssembler(inputCols=['id',\n",
    " 'kode_provinsi',\n",
    " \n",
    " 'kode_kabupaten_kota',\n",
    " 'persentase_tingkat_pengangguran_terbuka',\n",
    " 'tahun'],outputCol= 'features')"
   ]
  },
  {
   "cell_type": "code",
   "execution_count": 17,
   "id": "ed3f963b",
   "metadata": {},
   "outputs": [],
   "source": [
    "output = assembler.transform(data)"
   ]
  },
  {
   "cell_type": "code",
   "execution_count": 18,
   "id": "815ee0b0",
   "metadata": {},
   "outputs": [
    {
     "data": {
      "text/plain": [
       "[Row(id=1, kode_provinsi=32, nama_provinsi='JAWA BARAT', kode_kabupaten_kota=3201, nama_kabupaten_kota='KABUPATEN BOGOR', persentase_tingkat_pengangguran_terbuka=14.26, satuan='PERSEN', tahun=2007, features=DenseVector([1.0, 32.0, 3201.0, 14.26, 2007.0]))]"
      ]
     },
     "execution_count": 18,
     "metadata": {},
     "output_type": "execute_result"
    }
   ],
   "source": [
    "output.head(1)"
   ]
  },
  {
   "cell_type": "code",
   "execution_count": 20,
   "id": "2100b717",
   "metadata": {},
   "outputs": [],
   "source": [
    "final_data = output.select('features', 'persentase_tingkat_pengangguran_terbuka')"
   ]
  },
  {
   "cell_type": "code",
   "execution_count": 21,
   "id": "477b2d8b",
   "metadata": {},
   "outputs": [
    {
     "name": "stdout",
     "output_type": "stream",
     "text": [
      "+--------------------+---------------------------------------+\n",
      "|            features|persentase_tingkat_pengangguran_terbuka|\n",
      "+--------------------+---------------------------------------+\n",
      "|[1.0,32.0,3201.0,...|                                  14.26|\n",
      "|[2.0,32.0,3202.0,...|                                  10.85|\n",
      "|[3.0,32.0,3203.0,...|                                  13.82|\n",
      "|[4.0,32.0,3204.0,...|                                  17.37|\n",
      "|[5.0,32.0,3205.0,...|                                  12.18|\n",
      "|[6.0,32.0,3206.0,...|                                   8.48|\n",
      "|[7.0,32.0,3207.0,...|                                   4.39|\n",
      "|[8.0,32.0,3208.0,...|                                  10.56|\n",
      "|[9.0,32.0,3209.0,...|                                  13.64|\n",
      "|[10.0,32.0,3210.0...|                                   7.46|\n",
      "|[11.0,32.0,3211.0...|                                   7.83|\n",
      "|[12.0,32.0,3212.0...|                                  10.45|\n",
      "|[13.0,32.0,3213.0...|                                   7.51|\n",
      "|[14.0,32.0,3214.0...|                                  12.76|\n",
      "|[15.0,32.0,3215.0...|                                  17.02|\n",
      "|[16.0,32.0,3216.0...|                                  15.12|\n",
      "|[17.0,32.0,3271.0...|                                  18.89|\n",
      "|[18.0,32.0,3272.0...|                                  22.15|\n",
      "|[19.0,32.0,3273.0...|                                  16.48|\n",
      "|[20.0,32.0,3274.0...|                                  16.56|\n",
      "+--------------------+---------------------------------------+\n",
      "only showing top 20 rows\n",
      "\n"
     ]
    }
   ],
   "source": [
    "final_data.show()"
   ]
  },
  {
   "cell_type": "code",
   "execution_count": 22,
   "id": "9d9e7faa",
   "metadata": {},
   "outputs": [],
   "source": [
    "train_data, test_data = final_data.randomSplit([0.7,0.3])"
   ]
  },
  {
   "cell_type": "code",
   "execution_count": 24,
   "id": "83d8d2ce",
   "metadata": {},
   "outputs": [
    {
     "data": {
      "image/png": "[encoded data removed]",
      "text/plain": [
       "<Figure size 1000x600 with 1 Axes>"
      ]
     },
     "metadata": {},
     "output_type": "display_data"
    }
   ],
   "source": [
    "import matplotlib.pyplot as plt\n",
    "\n",
    "# Ambil kolom yang ingin dibandingkan ('penutupan')\n",
    "column_to_compare = 'persentase_tingkat_pengangguran_terbuka'\n",
    "\n",
    "# Konversi DataFrame Spark ke Pandas untuk plotting\n",
    "train_data_pd = train_data.select(column_to_compare).toPandas()\n",
    "test_data_pd = test_data.select(column_to_compare).toPandas()\n",
    "\n",
    "# Plot histogram\n",
    "plt.figure(figsize=(10, 6))\n",
    "\n",
    "plt.hist(train_data_pd[column_to_compare], bins=20, alpha=0.5, label='Train Data')\n",
    "plt.hist(test_data_pd[column_to_compare], bins=20, alpha=0.5, label='Test Data')\n",
    "\n",
    "plt.xlabel(column_to_compare)\n",
    "plt.ylabel('Frequency')\n",
    "plt.title(f'Histogram Comparison between Train and Test Data ({column_to_compare})')\n",
    "plt.legend()\n",
    "\n",
    "plt.show()\n",
    "\n"
   ]
  },
  {
   "cell_type": "code",
   "execution_count": 25,
   "id": "158ac952",
   "metadata": {},
   "outputs": [
    {
     "name": "stdout",
     "output_type": "stream",
     "text": [
      "+-------+---------------------------------------+\n",
      "|summary|persentase_tingkat_pengangguran_terbuka|\n",
      "+-------+---------------------------------------+\n",
      "|  count|                                    271|\n",
      "|   mean|                      9.159114391143909|\n",
      "| stddev|                     2.9060520422131795|\n",
      "|    min|                                   1.56|\n",
      "|    max|                                  22.15|\n",
      "+-------+---------------------------------------+\n",
      "\n"
     ]
    }
   ],
   "source": [
    "train_data.describe().show()"
   ]
  },
  {
   "cell_type": "code",
   "execution_count": 27,
   "id": "7c9a85aa",
   "metadata": {},
   "outputs": [],
   "source": [
    "lr = LinearRegression(labelCol=\"persentase_tingkat_pengangguran_terbuka\")"
   ]
  },
  {
   "cell_type": "code",
   "execution_count": 28,
   "id": "2966920f",
   "metadata": {},
   "outputs": [],
   "source": [
    "lr_model = lr.fit(train_data)"
   ]
  },
  {
   "cell_type": "code",
   "execution_count": 29,
   "id": "8b9f7af3",
   "metadata": {},
   "outputs": [
    {
     "name": "stdout",
     "output_type": "stream",
     "text": [
      "intercept: -6.95552187139314e-06\n",
      "feature1: -2.6707347736627015e-10\n",
      "feature2: 0.0\n",
      "feature3: -9.85647481810166e-12\n",
      "feature4: 1.000000000078536\n",
      "feature5: 3.4919396948702375e-09\n"
     ]
    }
   ],
   "source": [
    "# Mendapatkan koefisien dari model regresi\n",
    "coefficients = lr_model.coefficients\n",
    "\n",
    "# Menyusun koefisien dan nama variabel ke dalam dictionary\n",
    "coef_dict = {'intercept': lr_model.intercept}\n",
    "for i, coef in enumerate(coefficients):\n",
    "    coef_dict[f'feature{i+1}'] = coef\n",
    "\n",
    "# Tampilkan koefisien untuk setiap variabel\n",
    "for variable, coef in coef_dict.items():\n",
    "    print(f'{variable}: {coef}')\n"
   ]
  },
  {
   "cell_type": "code",
   "execution_count": 30,
   "id": "2e92e65e",
   "metadata": {},
   "outputs": [],
   "source": [
    "test_results = lr_model.evaluate(test_data)"
   ]
  },
  {
   "cell_type": "code",
   "execution_count": 31,
   "id": "defe1430",
   "metadata": {},
   "outputs": [
    {
     "name": "stdout",
     "output_type": "stream",
     "text": [
      "+--------------------+\n",
      "|           residuals|\n",
      "+--------------------+\n",
      "|-2.15168256545439...|\n",
      "|-2.08322958883400...|\n",
      "|-2.02647818525747...|\n",
      "|-1.96666398721845...|\n",
      "|-1.75038614713685...|\n",
      "|-2.15494768696089...|\n",
      "|-2.01244727549010...|\n",
      "|-2.01067109628638...|\n",
      "|-2.01643448605182...|\n",
      "|-1.90508249175991...|\n",
      "|-1.79509580533476...|\n",
      "|-1.71027600970319...|\n",
      "|-1.62755959820515...|\n",
      "|-1.55900981013701...|\n",
      "|-1.47822660778729...|\n",
      "|-1.78472792100592...|\n",
      "|-1.65180882305548...|\n",
      "|-1.43937484153866...|\n",
      "|-1.44529526124870...|\n",
      "|-1.24516681410113...|\n",
      "|-1.20140395409862...|\n",
      "|-1.08538831256055...|\n",
      "|-1.17780647457266...|\n",
      "|-1.15309788384365...|\n",
      "|-1.12995994783204...|\n",
      "|-1.06923341292031...|\n",
      "|-9.41454736391733...|\n",
      "|-8.30525692663286...|\n",
      "|-1.14225890968100...|\n",
      "|-1.12650333505825...|\n",
      "|-1.10148050680436...|\n",
      "|-9.55288737003456...|\n",
      "|-8.49700221294824...|\n",
      "|-6.43711572934080...|\n",
      "|-5.05953501317435...|\n",
      "|-7.44659978124673...|\n",
      "|-6.60058763202187E-9|\n",
      "|-5.56747714597349...|\n",
      "|-5.19267828735792...|\n",
      "|-2.85350765238945...|\n",
      "|-1.89077731249653...|\n",
      "|-5.89858828448086...|\n",
      "|-2.63245336640238...|\n",
      "|-1.04548369961321...|\n",
      "|5.623377319352585...|\n",
      "|2.835411017088063E-9|\n",
      "|-1.09102060719123...|\n",
      "|1.376445624146072...|\n",
      "|2.787569286510916E-9|\n",
      "|5.291235893878365...|\n",
      "|-1.10157749588779...|\n",
      "|1.713682529214111...|\n",
      "|1.388658077416948...|\n",
      "|1.109148328737319...|\n",
      "|1.746558453419311...|\n",
      "|2.533067089416363E-9|\n",
      "|2.940849341825924E-9|\n",
      "|3.346578125729138...|\n",
      "|5.036731920426973E-9|\n",
      "|5.246906908951132E-9|\n",
      "|5.521480161974068E-9|\n",
      "| 6.14523720798843E-9|\n",
      "|4.215731763679287E-9|\n",
      "|7.130807944122353E-9|\n",
      "|8.475703694443837E-9|\n",
      "|9.727929572989069E-9|\n",
      "|6.735954904968366...|\n",
      "|6.877018066120399...|\n",
      "|8.270307105817665E-9|\n",
      "|8.494616565712931E-9|\n",
      "| 9.48247880216968E-9|\n",
      "|1.020881690294572...|\n",
      "|1.219789069750731...|\n",
      "|1.361081203299363...|\n",
      "|1.096252333354641...|\n",
      "|1.211627598252107...|\n",
      "|1.279815187160693...|\n",
      "|1.312848496581864...|\n",
      "|1.353626899458504...|\n",
      "|1.511441727330975...|\n",
      "|1.530701077001595E-8|\n",
      "|1.562399454257956...|\n",
      "|1.627209833543474...|\n",
      "|1.691989837127039...|\n",
      "|1.761385437504259...|\n",
      "|1.798973947586546...|\n",
      "|1.356490741954985...|\n",
      "|1.542548488941975E-8|\n",
      "|1.592485254775511E-8|\n",
      "|1.656854475839964E-8|\n",
      "|1.897718338028653...|\n",
      "|1.909595326310409...|\n",
      "|1.945220517995949...|\n",
      "|1.791036474685370...|\n",
      "|1.852626851928107...|\n",
      "|2.095659379364178...|\n",
      "|2.391045228478106E-8|\n",
      "| 2.41567530423481E-8|\n",
      "|2.455668202117067...|\n",
      "+--------------------+\n",
      "\n"
     ]
    }
   ],
   "source": [
    "test_results.residuals.show(n=1004)"
   ]
  },
  {
   "cell_type": "code",
   "execution_count": 33,
   "id": "446b74a1",
   "metadata": {},
   "outputs": [
    {
     "data": {
      "image/png": "[encoded data removed]",
      "text/plain": [
       "<Figure size 640x480 with 1 Axes>"
      ]
     },
     "metadata": {},
     "output_type": "display_data"
    }
   ],
   "source": [
    "import matplotlib.pyplot as plt\n",
    "\n",
    "# Dapatkan residual dari hasil evaluasi\n",
    "residuals = test_results.residuals.toPandas()[\"residuals\"]\n",
    "\n",
    "# Buat histogram residual\n",
    "plt.hist(residuals, bins=20, color='blue', alpha=0.7)\n",
    "plt.xlabel('Residual Value')\n",
    "plt.ylabel('persentase tingkat pengangguran terbuka')\n",
    "plt.title('Histogram of Residuals')\n",
    "plt.show()\n",
    "\n"
   ]
  },
  {
   "cell_type": "code",
   "execution_count": null,
   "id": "8a6aab1f",
   "metadata": {},
   "outputs": [],
   "source": []
  },
  {
   "cell_type": "code",
   "execution_count": 34,
   "id": "99f4c57b",
   "metadata": {},
   "outputs": [
    {
     "data": {
      "image/png": "[encoded data removed]",
      "text/plain": [
       "<Figure size 640x480 with 1 Axes>"
      ]
     },
     "metadata": {},
     "output_type": "display_data"
    }
   ],
   "source": [
    "import scipy.stats as stats\n",
    "\n",
    "\n",
    "# Create Q-Q plot\n",
    "stats.probplot(residuals, dist=\"norm\", plot=plt)\n",
    "plt.title('Q-Q Plot of Residuals')\n",
    "plt.show()\n"
   ]
  },
  {
   "cell_type": "code",
   "execution_count": 35,
   "id": "16b21560",
   "metadata": {},
   "outputs": [
    {
     "data": {
      "text/plain": [
       "1.3125284090603527e-08"
      ]
     },
     "execution_count": 35,
     "metadata": {},
     "output_type": "execute_result"
    }
   ],
   "source": [
    "test_results.rootMeanSquaredError"
   ]
  },
  {
   "cell_type": "code",
   "execution_count": 36,
   "id": "20edea41",
   "metadata": {},
   "outputs": [
    {
     "data": {
      "text/plain": [
       "1.0"
      ]
     },
     "execution_count": 36,
     "metadata": {},
     "output_type": "execute_result"
    }
   ],
   "source": [
    "test_results.r2"
   ]
  },
  {
   "cell_type": "code",
   "execution_count": 37,
   "id": "210d9c39",
   "metadata": {},
   "outputs": [
    {
     "name": "stdout",
     "output_type": "stream",
     "text": [
      "+-------+---------------------------------------+\n",
      "|summary|persentase_tingkat_pengangguran_terbuka|\n",
      "+-------+---------------------------------------+\n",
      "|  count|                                    370|\n",
      "|   mean|                      9.247189189189188|\n",
      "| stddev|                      2.838211428074365|\n",
      "|    min|                                   1.56|\n",
      "|    max|                                  22.15|\n",
      "+-------+---------------------------------------+\n",
      "\n"
     ]
    }
   ],
   "source": [
    "final_data.describe().show()"
   ]
  },
  {
   "cell_type": "code",
   "execution_count": null,
   "id": "2f29107c",
   "metadata": {},
   "outputs": [],
   "source": [
    "unlabeled_data = test_data.select('features')"
   ]
  },
  {
   "cell_type": "code",
   "execution_count": null,
   "id": "04df92a2",
   "metadata": {},
   "outputs": [],
   "source": [
    "unlabeled_data.show()\n"
   ]
  },
  {
   "cell_type": "code",
   "execution_count": null,
   "id": "7a4218ac",
   "metadata": {},
   "outputs": [],
   "source": [
    "predictions = lr_model.transform(unlabeled_data)"
   ]
  },
  {
   "cell_type": "code",
   "execution_count": null,
   "id": "90608932",
   "metadata": {},
   "outputs": [],
   "source": [
    "predictions.show()"
   ]
  }
 ],
 "metadata": {
  "kernelspec": {
   "display_name": "pyspark-env",
   "language": "python",
   "name": "pyspark-env"
  },
  "language_info": {
   "codemirror_mode": {
    "name": "ipython",
    "version": 3
   },
   "file_extension": ".py",
   "mimetype": "text/x-python",
   "name": "python",
   "nbconvert_exporter": "python",
   "pygments_lexer": "ipython3",
   "version": "3.11.5"
  }
 },
 "nbformat": 4,
 "nbformat_minor": 5
}
